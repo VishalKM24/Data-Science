{
 "cells": [
  {
   "cell_type": "code",
   "execution_count": 1,
   "metadata": {},
   "outputs": [],
   "source": [
    "import numpy as np\n",
    "import pandas as pd\n",
    "import matplotlib.pyplot as plt"
   ]
  },
  {
   "cell_type": "code",
   "execution_count": 2,
   "metadata": {},
   "outputs": [],
   "source": [
    "m, c = 4, 100"
   ]
  },
  {
   "cell_type": "code",
   "execution_count": 45,
   "metadata": {},
   "outputs": [],
   "source": [
    "X = np.linspace(10, 50, 100)\n",
    "noise = np.random.rand(100) * 100\n",
    "y = m*X + noise"
   ]
  },
  {
   "cell_type": "code",
   "execution_count": 46,
   "metadata": {},
   "outputs": [
    {
     "data": {
      "text/plain": [
       "<matplotlib.collections.PathCollection at 0x20a90a5e548>"
      ]
     },
     "execution_count": 46,
     "metadata": {},
     "output_type": "execute_result"
    },
    {
     "data": {
      "image/png": "[encoded data removed]",
      "text/plain": [
       "<Figure size 432x288 with 1 Axes>"
      ]
     },
     "metadata": {
      "needs_background": "light"
     },
     "output_type": "display_data"
    }
   ],
   "source": [
    "plt.scatter(X, y)"
   ]
  },
  {
   "cell_type": "code",
   "execution_count": 68,
   "metadata": {},
   "outputs": [],
   "source": [
    "class CustomLinearReg:\n",
    "    def __init__(self, lr=.1, iters=10):\n",
    "        self.lr = lr\n",
    "        self.iters = iters\n",
    "    \n",
    "    def fit(self, X, y):\n",
    "        self.coef_ = np.random.random()\n",
    "        \n",
    "        for i in range(self.iters):\n",
    "            self.gradient_decend(X, y)\n",
    "            \n",
    "    def gradient_decend(self, X, y):\n",
    "        delta_coef = self.gradient(X, y)\n",
    "        print(delta_coef)\n",
    "        self.coef_ += delta_coef\n",
    "        \n",
    "    \n",
    "    def gradient(self, X, y):\n",
    "        yh = self.hypo(X)\n",
    "        error = (yh-y)\n",
    "        dmsedm = np.mean(2*(yh-y)*X)\n",
    "        return -dmsedm*self.lr\n",
    "        \n",
    "    def hypo(self, X):\n",
    "        return X * self.coef_"
   ]
  },
  {
   "cell_type": "code",
   "execution_count": 69,
   "metadata": {},
   "outputs": [],
   "source": [
    "model = CustomLinearReg(lr = .01, iters=30)"
   ]
  },
  {
   "cell_type": "code",
   "execution_count": 70,
   "metadata": {},
   "outputs": [
    {
     "name": "stdout",
     "output_type": "stream",
     "text": [
      "106.36918941114915\n",
      "-2097.657718454884\n",
      "41366.94025922645\n",
      "-815778.3471322873\n",
      "16087588.481999347\n",
      "-317255911.57936084\n",
      "6256457488.620593\n",
      "-123380712157.74686\n",
      "2433134111474.4897\n",
      "-47982715457596.25\n",
      "946244998098118.9\n",
      "-1.866046112411004e+16\n",
      "3.6799434614111955e+17\n",
      "-7.257046752015276e+18\n",
      "1.4311287146987702e+20\n",
      "-2.8222629232291904e+21\n",
      "5.565654525708205e+22\n",
      "-1.097577055793702e+24\n",
      "2.1644810827554587e+25\n",
      "-4.26847330023526e+26\n",
      "8.417659299487516e+27\n",
      "-1.6600077615184642e+29\n",
      "3.273624733741968e+30\n",
      "-6.455764331827174e+31\n",
      "1.2731115047647056e+33\n",
      "-2.5106444725275693e+34\n",
      "4.951126153398644e+35\n",
      "-9.763887501836991e+36\n",
      "1.9254912154296045e+38\n",
      "-3.797172406993668e+39\n"
     ]
    }
   ],
   "source": [
    "model.fit(X, y)"
   ]
  },
  {
   "cell_type": "code",
   "execution_count": 71,
   "metadata": {},
   "outputs": [
    {
     "data": {
      "text/plain": [
       "-3.613915955112433e+39"
      ]
     },
     "execution_count": 71,
     "metadata": {},
     "output_type": "execute_result"
    }
   ],
   "source": [
    "model.coef_"
   ]
  },
  {
   "cell_type": "code",
   "execution_count": 72,
   "metadata": {},
   "outputs": [],
   "source": [
    "yh = model.hypo(X)"
   ]
  },
  {
   "cell_type": "code",
   "execution_count": 73,
   "metadata": {},
   "outputs": [
    {
     "data": {
      "text/plain": [
       "<matplotlib.collections.PathCollection at 0x20a91dd7708>"
      ]
     },
     "execution_count": 73,
     "metadata": {},
     "output_type": "execute_result"
    },
    {
     "data": {
      "image/png": "[encoded data removed]",
      "text/plain": [
       "<Figure size 432x288 with 1 Axes>"
      ]
     },
     "metadata": {
      "needs_background": "light"
     },
     "output_type": "display_data"
    }
   ],
   "source": [
    "plt.scatter(X, y)\n",
    "plt.scatter(X, yh)"
   ]
  },
  {
   "cell_type": "markdown",
   "metadata": {},
   "source": [
    "- with vary in lr value the graph will turn its pointing side"
   ]
  },
  {
   "cell_type": "code",
   "execution_count": 85,
   "metadata": {},
   "outputs": [],
   "source": [
    "class CustomLinearReg:\n",
    "    def __init__(self, lr=.1, iters=10):\n",
    "        self.lr = lr\n",
    "        self.iters = iters\n",
    "    \n",
    "    def fit(self, X, y):\n",
    "        self.coef_ = np.random.random()\n",
    "        error = []\n",
    "        for i in range(self.iters):\n",
    "            errors =  self.gradient_decend(X, y)\n",
    "            error.append(errors)\n",
    "            \n",
    "        return error\n",
    "    \n",
    "    def gradient_decend(self, X, y):\n",
    "        delta_coef, error = self.gradient(X, y)\n",
    "        self.coef_ += delta_coef\n",
    "        return error\n",
    "    \n",
    "    def gradient(self, X, y):\n",
    "        yh = self.hypo(X)\n",
    "        error = np.mean((yh-y)**2)\n",
    "        dmsedm = np.mean(2*(yh-y)*X)\n",
    "        return -dmsedm*self.lr, error\n",
    "        \n",
    "    def hypo(self, X):\n",
    "        return X * self.coef_"
   ]
  },
  {
   "cell_type": "code",
   "execution_count": 92,
   "metadata": {},
   "outputs": [
    {
     "data": {
      "image/png": "[encoded data removed]",
      "text/plain": [
       "<Figure size 432x288 with 1 Axes>"
      ]
     },
     "metadata": {
      "needs_background": "light"
     },
     "output_type": "display_data"
    },
    {
     "data": {
      "image/png": "[encoded data removed]",
      "text/plain": [
       "<Figure size 432x288 with 1 Axes>"
      ]
     },
     "metadata": {
      "needs_background": "light"
     },
     "output_type": "display_data"
    },
    {
     "data": {
      "image/png": "[encoded data removed]",
      "text/plain": [
       "<Figure size 432x288 with 1 Axes>"
      ]
     },
     "metadata": {
      "needs_background": "light"
     },
     "output_type": "display_data"
    },
    {
     "data": {
      "image/png": "[encoded data removed]",
      "text/plain": [
       "<Figure size 432x288 with 1 Axes>"
      ]
     },
     "metadata": {
      "needs_background": "light"
     },
     "output_type": "display_data"
    }
   ],
   "source": [
    "for i in range(1, 5):\n",
    "    model = CustomLinearReg(lr = .001*i, iters=30)\n",
    "    error = model.fit(X, y)\n",
    "    plt.figure()\n",
    "    plt.title(str(.001*i))\n",
    "    plt.plot(error)\n",
    "    plt.show()"
   ]
  },
  {
   "cell_type": "code",
   "execution_count": null,
   "metadata": {},
   "outputs": [],
   "source": []
  }
 ],
 "metadata": {
  "kernelspec": {
   "display_name": "Python 3",
   "language": "python",
   "name": "python3"
  },
  "language_info": {
   "codemirror_mode": {
    "name": "ipython",
    "version": 3
   },
   "file_extension": ".py",
   "mimetype": "text/x-python",
   "name": "python",
   "nbconvert_exporter": "python",
   "pygments_lexer": "ipython3",
   "version": "3.7.6"
  }
 },
 "nbformat": 4,
 "nbformat_minor": 4
}
