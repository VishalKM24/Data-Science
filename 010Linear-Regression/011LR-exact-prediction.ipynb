{
 "cells": [
  {
   "cell_type": "code",
   "execution_count": 1,
   "metadata": {},
   "outputs": [],
   "source": [
    "import numpy as np\n",
    "import matplotlib.pyplot as plt\n",
    "import pandas as pd"
   ]
  },
  {
   "cell_type": "code",
   "execution_count": 2,
   "metadata": {},
   "outputs": [],
   "source": [
    "m, c = 4, 100"
   ]
  },
  {
   "cell_type": "code",
   "execution_count": 35,
   "metadata": {},
   "outputs": [],
   "source": [
    "X = np.linspace(10, 30, 100)\n",
    "noise = np.random.rand(100) * 100\n",
    "y = m*X*X + noise"
   ]
  },
  {
   "cell_type": "code",
   "execution_count": 36,
   "metadata": {},
   "outputs": [],
   "source": [
    "X_mod = (X-X.mean())/X.std()\n",
    "y_mod = (y-y.mean())/y.std()"
   ]
  },
  {
   "cell_type": "code",
   "execution_count": 37,
   "metadata": {},
   "outputs": [
    {
     "data": {
      "text/plain": [
       "<matplotlib.collections.PathCollection at 0x2698edcc888>"
      ]
     },
     "execution_count": 37,
     "metadata": {},
     "output_type": "execute_result"
    },
    {
     "data": {
      "image/png": "[encoded data removed]",
      "text/plain": [
       "<Figure size 432x288 with 1 Axes>"
      ]
     },
     "metadata": {
      "needs_background": "light"
     },
     "output_type": "display_data"
    }
   ],
   "source": [
    "plt.scatter(X, y)"
   ]
  },
  {
   "cell_type": "code",
   "execution_count": 38,
   "metadata": {},
   "outputs": [],
   "source": [
    "class CustomLinearReg:\n",
    "    def __init__(self, lr=.01, iters=300):\n",
    "        self.lr = lr\n",
    "        self.iters = iters\n",
    "    \n",
    "    def fit(self, X, y):\n",
    "        self.a_ = np.random.random()\n",
    "        self.b_ = np.random.random()\n",
    "        self.c_ = np.random.random()\n",
    "        \n",
    "        error = []\n",
    "        for i in range(self.iters):\n",
    "            errors =  self.gradient_decend(X, y)\n",
    "            error.append(errors)\n",
    "            \n",
    "        return error\n",
    "    \n",
    "    def gradient_decend(self, X, y):\n",
    "        delta_a, delta_b, delta_c, error = self.gradient(X, y)\n",
    "        self.a_ += delta_a\n",
    "        self.b_ += delta_b\n",
    "        self.c_ += delta_c\n",
    "        return error\n",
    "    \n",
    "    def gradient(self, X, y):\n",
    "        yh = self.hypo(X)\n",
    "        error = np.mean((yh-y)**2)\n",
    "        dmseda = np.mean(2*(yh-y)*X*X)\n",
    "        dmsedb = np.mean(2*(yh-y)*X)\n",
    "        dmsedc = np.mean(2*(yh-y))\n",
    "        delta_a = -dmseda*self.lr\n",
    "        delta_b = -dmsedb*self.lr\n",
    "        delta_c = -dmsedc*self.lr\n",
    "        return delta_a, delta_b, delta_c, error\n",
    "        \n",
    "    def hypo(self, X):\n",
    "        return X*X*self.a_ + X*self.b_ + self.c_"
   ]
  },
  {
   "cell_type": "code",
   "execution_count": 45,
   "metadata": {},
   "outputs": [
    {
     "data": {
      "text/plain": [
       "<matplotlib.collections.PathCollection at 0x2699009be08>"
      ]
     },
     "execution_count": 45,
     "metadata": {},
     "output_type": "execute_result"
    },
    {
     "data": {
      "image/png": "[encoded data removed]",
      "text/plain": [
       "<Figure size 432x288 with 1 Axes>"
      ]
     },
     "metadata": {
      "needs_background": "light"
     },
     "output_type": "display_data"
    }
   ],
   "source": [
    "model = CustomLinearReg(lr = 0.1, iters=100)\n",
    "error = model.fit(X_mod, y_mod)\n",
    "\n",
    "yh = model.hypo(X_mod)\n",
    "\n",
    "plt.scatter(X_mod, y_mod)\n",
    "plt.scatter(X_mod, yh)"
   ]
  },
  {
   "cell_type": "code",
   "execution_count": null,
   "metadata": {},
   "outputs": [],
   "source": []
  }
 ],
 "metadata": {
  "kernelspec": {
   "display_name": "Python 3",
   "language": "python",
   "name": "python3"
  },
  "language_info": {
   "codemirror_mode": {
    "name": "ipython",
    "version": 3
   },
   "file_extension": ".py",
   "mimetype": "text/x-python",
   "name": "python",
   "nbconvert_exporter": "python",
   "pygments_lexer": "ipython3",
   "version": "3.7.6"
  }
 },
 "nbformat": 4,
 "nbformat_minor": 4
}
