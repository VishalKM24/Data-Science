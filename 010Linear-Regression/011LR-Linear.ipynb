{
 "cells": [
  {
   "cell_type": "code",
   "execution_count": 2,
   "metadata": {},
   "outputs": [],
   "source": [
    "import numpy as np\n",
    "import matplotlib.pyplot as plt\n",
    "import pandas as pd"
   ]
  },
  {
   "cell_type": "code",
   "execution_count": 3,
   "metadata": {},
   "outputs": [],
   "source": [
    "m, c = 4, 100"
   ]
  },
  {
   "cell_type": "code",
   "execution_count": 4,
   "metadata": {},
   "outputs": [],
   "source": [
    "X = np.linspace(10, 50, 100)\n",
    "noise = np.random.rand(100) * 100\n",
    "y = m*X + noise"
   ]
  },
  {
   "cell_type": "code",
   "execution_count": 5,
   "metadata": {},
   "outputs": [
    {
     "data": {
      "text/plain": [
       "<matplotlib.collections.PathCollection at 0x207dfbd32c8>"
      ]
     },
     "execution_count": 5,
     "metadata": {},
     "output_type": "execute_result"
    },
    {
     "data": {
      "image/png": "[encoded data removed]",
      "text/plain": [
       "<Figure size 432x288 with 1 Axes>"
      ]
     },
     "metadata": {
      "needs_background": "light"
     },
     "output_type": "display_data"
    }
   ],
   "source": [
    "plt.scatter(X, y)"
   ]
  },
  {
   "cell_type": "code",
   "execution_count": 7,
   "metadata": {},
   "outputs": [],
   "source": [
    "class CustomLinearReg:\n",
    "    def __init__(self, lr=.1, iters=10):\n",
    "        self.lr = lr\n",
    "        self.iters = iters\n",
    "    \n",
    "    def fit(self, X, y):\n",
    "        self.coef_ = np.random.random()\n",
    "        \n",
    "        for i in range(self.iters):\n",
    "            self.gradient_decend(X, y)\n",
    "            \n",
    "    def gradient_decend(self, X, y):\n",
    "        delta_coef = self.gradient(X, y)\n",
    "        print(delta_coef)\n",
    "        self.coef_ += delta_coef\n",
    "        \n",
    "    \n",
    "    def gradient(self, X, y):\n",
    "        yh = self.hypo(X)\n",
    "        error = (yh-y)\n",
    "        dmsedm = np.mean(2*(yh-y)*X)\n",
    "        return -dmsedm*self.lr\n",
    "        \n",
    "    def hypo(self, X):\n",
    "        return X * self.coef_"
   ]
  },
  {
   "cell_type": "code",
   "execution_count": 8,
   "metadata": {},
   "outputs": [],
   "source": [
    "model = CustomLinearReg(lr = .01, iters=30)"
   ]
  },
  {
   "cell_type": "code",
   "execution_count": 10,
   "metadata": {},
   "outputs": [
    {
     "name": "stdout",
     "output_type": "stream",
     "text": [
      "95.38527835509018\n",
      "-1881.04907517092\n",
      "37095.30112214169\n",
      "-731539.3221292385\n",
      "14426349.527646296\n",
      "-284495384.4559743\n",
      "5610402244.97859\n",
      "-110640154709.89766\n",
      "2181883455002.9316\n",
      "-43027917158088.11\n",
      "848533706380209.0\n",
      "-1.6733541812353144e+16\n",
      "3.299944592422639e+17\n",
      "-6.507668511050301e+18\n",
      "1.2833472885259806e+20\n",
      "-2.530829989527498e+21\n",
      "4.990933080357763e+22\n",
      "-9.842388906281288e+23\n",
      "1.940972115289209e+25\n",
      "-3.8277015755046784e+26\n",
      "7.548433713040707e+27\n",
      "-1.4885917931743912e+29\n",
      "2.9355832096371744e+30\n",
      "-5.789128235301324e+31\n",
      "1.1416472752242374e+33\n",
      "-2.2513899296257103e+34\n",
      "4.439862228221476e+35\n",
      "-8.755647498549895e+36\n",
      "1.7266608551854124e+38\n",
      "-3.405068225192243e+39\n"
     ]
    }
   ],
   "source": [
    "model.fit(X, y)"
   ]
  },
  {
   "cell_type": "code",
   "execution_count": 11,
   "metadata": {},
   "outputs": [],
   "source": [
    "yh = model.hypo(X)"
   ]
  },
  {
   "cell_type": "code",
   "execution_count": 12,
   "metadata": {},
   "outputs": [
    {
     "data": {
      "text/plain": [
       "<matplotlib.collections.PathCollection at 0x207dfcd12c8>"
      ]
     },
     "execution_count": 12,
     "metadata": {},
     "output_type": "execute_result"
    },
    {
     "data": {
      "image/png": "[encoded data removed]",
      "text/plain": [
       "<Figure size 432x288 with 1 Axes>"
      ]
     },
     "metadata": {
      "needs_background": "light"
     },
     "output_type": "display_data"
    }
   ],
   "source": [
    "plt.scatter(X, y)\n",
    "plt.scatter(X, yh)"
   ]
  },
  {
   "cell_type": "code",
   "execution_count": 22,
   "metadata": {},
   "outputs": [],
   "source": [
    "class CustomLinearReg:\n",
    "    def __init__(self, lr=.01, iters=300):\n",
    "        self.lr = lr\n",
    "        self.iters = iters\n",
    "    \n",
    "    def fit(self, X, y):\n",
    "        self.coef_ = np.random.random()\n",
    "        self.bias_ = np.random.random()\n",
    "        \n",
    "        error = []\n",
    "        for i in range(self.iters):\n",
    "            errors =  self.gradient_decend(X, y)\n",
    "            error.append(errors)\n",
    "            \n",
    "        return error\n",
    "    \n",
    "    def gradient_decend(self, X, y):\n",
    "        delta_coef, delta_bias, error = self.gradient(X, y)\n",
    "        self.coef_ += delta_coef\n",
    "        self.bias_ += delta_bias\n",
    "        return error\n",
    "    \n",
    "    def gradient(self, X, y):\n",
    "        yh = self.hypo(X)\n",
    "        error = np.mean((yh-y)**2)\n",
    "        dmsedm = np.mean(2*(yh-y)*X)\n",
    "        dmsedm1 = np.mean(2*(yh-y))\n",
    "        return -dmsedm*self.lr, dmsedm1*self.lr, error\n",
    "        \n",
    "    def hypo(self, X):\n",
    "        return X * self.coef_ + self.bias_\n"
   ]
  },
  {
   "cell_type": "code",
   "execution_count": 28,
   "metadata": {},
   "outputs": [
    {
     "data": {
      "image/png": "[encoded data removed]",
      "text/plain": [
       "<Figure size 432x288 with 1 Axes>"
      ]
     },
     "metadata": {
      "needs_background": "light"
     },
     "output_type": "display_data"
    }
   ],
   "source": [
    "model = CustomLinearReg(lr = 0.0008, iters=100)\n",
    "error = model.fit(X, y)\n",
    "\n",
    "yh = model.hypo(X)\n",
    "\n",
    "plt.figure()\n",
    "plt.scatter(X, y)\n",
    "plt.scatter(X, yh)\n",
    "plt.show()"
   ]
  },
  {
   "cell_type": "code",
   "execution_count": null,
   "metadata": {},
   "outputs": [],
   "source": []
  }
 ],
 "metadata": {
  "kernelspec": {
   "display_name": "Python 3",
   "language": "python",
   "name": "python3"
  },
  "language_info": {
   "codemirror_mode": {
    "name": "ipython",
    "version": 3
   },
   "file_extension": ".py",
   "mimetype": "text/x-python",
   "name": "python",
   "nbconvert_exporter": "python",
   "pygments_lexer": "ipython3",
   "version": "3.7.6"
  }
 },
 "nbformat": 4,
 "nbformat_minor": 4
}
