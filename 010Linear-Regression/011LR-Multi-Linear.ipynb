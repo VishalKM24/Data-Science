{
 "cells": [
  {
   "cell_type": "code",
   "execution_count": 1,
   "metadata": {},
   "outputs": [],
   "source": [
    "import numpy as np\n",
    "import matplotlib.pyplot as plt\n",
    "import pandas as pd"
   ]
  },
  {
   "cell_type": "code",
   "execution_count": 9,
   "metadata": {},
   "outputs": [],
   "source": [
    "from sklearn.datasets import make_regression\n",
    "from sklearn.linear_model import LinearRegression\n",
    "\n",
    "X, y = make_regression(n_features=1, noise=15, bias=10, random_state=1)"
   ]
  },
  {
   "cell_type": "code",
   "execution_count": 10,
   "metadata": {},
   "outputs": [],
   "source": [
    "class CustomLinearReg:\n",
    "    def __init__(self, lr=.01, iters=100):\n",
    "        self.lr = lr\n",
    "        self.iters = iters\n",
    "    \n",
    "    def fit(self, X, y):\n",
    "        self.coef_ = np.random.randn(X.shape[1], 1)\n",
    "        self.bias_ = np.random.random()\n",
    "        \n",
    "        errors = []\n",
    "        for i in range(self.iters):\n",
    "            error =  self.gradient_decend(X, y)\n",
    "            errors.append(error)\n",
    "            \n",
    "        return errors\n",
    "    \n",
    "    def gradient_decend(self, X, y):\n",
    "        delta_coef, delta_bias, error = self.gradient(X, y)\n",
    "        self.coef_ += delta_coef\n",
    "        self.bias_ += delta_bias\n",
    "        return error\n",
    "    \n",
    "    def gradient(self, X, y):\n",
    "        ya = y.reshape(-1, 1)   # reshape of y because actual y shape is (100,) which needed to be convert over (100, 1)\n",
    "        yh = self.hypo(X)\n",
    "        dmsedm = np.dot(X.T,(yh-ya))/len(X)\n",
    "        dmsedm1 = np.mean(2*(yh-ya))\n",
    "        delta_coef = -dmsedm*self.lr\n",
    "        delta_bias = -dmsedm1*self.lr\n",
    "        error = np.mean((yh-ya)**2)\n",
    "        return delta_coef, delta_bias, error\n",
    "        \n",
    "    def hypo(self, X):\n",
    "        return np.dot(X, self.coef_) + self.bias_\n",
    "    \n",
    "    def predict(self, X):\n",
    "        return self.hypo(X).flatten()\n"
   ]
  },
  {
   "cell_type": "code",
   "execution_count": 11,
   "metadata": {},
   "outputs": [],
   "source": [
    "model = CustomLinearReg(lr = 0.0008, iters=10000)\n",
    "error = model.fit(X, y)"
   ]
  },
  {
   "cell_type": "code",
   "execution_count": 12,
   "metadata": {},
   "outputs": [
    {
     "data": {
      "text/plain": [
       "(array([[81.88417489]]), 13.056109766453968)"
      ]
     },
     "execution_count": 12,
     "metadata": {},
     "output_type": "execute_result"
    }
   ],
   "source": [
    "model.coef_, model.bias_"
   ]
  },
  {
   "cell_type": "code",
   "execution_count": 13,
   "metadata": {},
   "outputs": [
    {
     "data": {
      "image/png": "[encoded data removed]",
      "text/plain": [
       "<Figure size 432x288 with 1 Axes>"
      ]
     },
     "metadata": {
      "needs_background": "light"
     },
     "output_type": "display_data"
    }
   ],
   "source": [
    "plt.figure()\n",
    "plt.plot(error)\n",
    "plt.show()"
   ]
  },
  {
   "cell_type": "code",
   "execution_count": 14,
   "metadata": {},
   "outputs": [
    {
     "data": {
      "text/plain": [
       "array([ -37.0370594 ,   -7.36337767,   53.05801511,   75.45276652,\n",
       "        137.50505576,   43.97260888,   55.05694489,  -41.90832581,\n",
       "       -101.2948404 ,   38.90161699])"
      ]
     },
     "execution_count": 14,
     "metadata": {},
     "output_type": "execute_result"
    }
   ],
   "source": [
    "model.predict(X[:10])"
   ]
  },
  {
   "cell_type": "code",
   "execution_count": 15,
   "metadata": {},
   "outputs": [
    {
     "data": {
      "text/plain": [
       "array([-43.9977391 ,  -3.0281917 ,  36.92519443, 101.19767617,\n",
       "       148.91946935,  42.58496708,  45.11116131, -22.95938308,\n",
       "       -92.90734094,  34.22106871])"
      ]
     },
     "execution_count": 15,
     "metadata": {},
     "output_type": "execute_result"
    }
   ],
   "source": [
    "y[:10]"
   ]
  },
  {
   "cell_type": "code",
   "execution_count": 16,
   "metadata": {},
   "outputs": [
    {
     "data": {
      "text/plain": [
       "<matplotlib.collections.PathCollection at 0x2de970c70c8>"
      ]
     },
     "execution_count": 16,
     "metadata": {},
     "output_type": "execute_result"
    },
    {
     "data": {
      "image/png": "[encoded data removed]",
      "text/plain": [
       "<Figure size 432x288 with 1 Axes>"
      ]
     },
     "metadata": {
      "needs_background": "light"
     },
     "output_type": "display_data"
    }
   ],
   "source": [
    "plt.scatter(X, y)\n",
    "plt.scatter(X, model.predict(X))"
   ]
  },
  {
   "cell_type": "code",
   "execution_count": null,
   "metadata": {},
   "outputs": [],
   "source": []
  },
  {
   "cell_type": "code",
   "execution_count": null,
   "metadata": {},
   "outputs": [],
   "source": []
  }
 ],
 "metadata": {
  "kernelspec": {
   "display_name": "Python 3",
   "language": "python",
   "name": "python3"
  },
  "language_info": {
   "codemirror_mode": {
    "name": "ipython",
    "version": 3
   },
   "file_extension": ".py",
   "mimetype": "text/x-python",
   "name": "python",
   "nbconvert_exporter": "python",
   "pygments_lexer": "ipython3",
   "version": "3.7.6"
  }
 },
 "nbformat": 4,
 "nbformat_minor": 4
}
