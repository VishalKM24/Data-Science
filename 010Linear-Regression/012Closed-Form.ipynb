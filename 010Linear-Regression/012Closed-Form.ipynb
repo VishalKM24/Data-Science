{
 "cells": [
  {
   "cell_type": "markdown",
   "metadata": {},
   "source": [
    "### Closed Form"
   ]
  },
  {
   "cell_type": "markdown",
   "metadata": {},
   "source": [
    "- (yh - ya)^2\n",
    "- = $(yh - ya)^{T}$ . (yh - ya) \n",
    "- = $(XΘ - ya)^{T}$ (yh - ya)\n",
    "- = ($XΘ^{T}$ - $ya^{T}$) . (XΘ - ya)\n",
    "- = ($Θ^{T}$$X^{T}$ - $ya^{T}$) . (XΘ - ya)"
   ]
  },
  {
   "cell_type": "markdown",
   "metadata": {},
   "source": [
    "- important rule of linear algebra\n",
    "- $m^{2}$ = $m^{T}$m"
   ]
  },
  {
   "cell_type": "code",
   "execution_count": null,
   "metadata": {},
   "outputs": [],
   "source": []
  },
  {
   "cell_type": "code",
   "execution_count": 12,
   "metadata": {},
   "outputs": [],
   "source": [
    "import numpy as np\n",
    "import matplotlib.pyplot as plt\n",
    "import pandas as pd\n",
    "\n",
    "from sklearn.datasets import make_regression\n",
    "from sklearn.linear_model import LinearRegression\n",
    "\n",
    "X, y = make_regression(n_features=5, noise=15, bias=10, random_state=1)"
   ]
  },
  {
   "cell_type": "code",
   "execution_count": 19,
   "metadata": {},
   "outputs": [],
   "source": [
    "class CustomLinearReg:\n",
    "    \n",
    "    def __init__(self, lr=0.01, iters=100):\n",
    "        self.lr = lr\n",
    "        self.iters = iters\n",
    "        \n",
    "    def fit(self, X, y):\n",
    "        ones = np.ones([X.shape[0], 1])\n",
    "        X = np.hstack([ones, X])\n",
    "        \n",
    "        self.theta_ = np.random.randn(X.shape[1], 1)\n",
    "        \n",
    "        errors = []\n",
    "        for i in range(self.iters):\n",
    "            error  = self.gradient_descent(X, y)\n",
    "            errors.append(error)\n",
    "            \n",
    "        return errors\n",
    "            \n",
    "    def gradient_descent(self, X, y):\n",
    "        delta_theta, error = self.gradient(X, y) \n",
    "        self.theta_ += delta_theta\n",
    "        return error\n",
    "        \n",
    "        \n",
    "    def gradient(self, X, y):\n",
    "        ya = y.reshape(-1, 1)\n",
    "        yh = self.hypo(X)\n",
    "        \n",
    "        dmsedt = np.dot(X.T, (yh-ya)) / X.shape[0]\n",
    "        \n",
    "        delta_theta = -dmsedt * self.lr\n",
    "        error = np.sum((yh-ya)**2) / X.shape[0]\n",
    "        \n",
    "        return delta_theta, error\n",
    "        \n",
    "    def hypo(self, X):\n",
    "        return np.dot(X, self.theta_)\n",
    "    \n",
    "    def predict(self, X):\n",
    "        ones = np.ones([X.shape[0], 1])\n",
    "        X = np.hstack([ones, X])\n",
    "        \n",
    "        result = self.hypo(X)\n",
    "        return result.flatten()"
   ]
  },
  {
   "cell_type": "code",
   "execution_count": 20,
   "metadata": {},
   "outputs": [],
   "source": [
    "model = CustomLinearReg(lr=.1, iters=100)"
   ]
  },
  {
   "cell_type": "code",
   "execution_count": 21,
   "metadata": {},
   "outputs": [],
   "source": [
    "errors = model.fit(X, y)"
   ]
  },
  {
   "cell_type": "code",
   "execution_count": 22,
   "metadata": {},
   "outputs": [
    {
     "data": {
      "text/plain": [
       "[<matplotlib.lines.Line2D at 0x251c45b6e08>]"
      ]
     },
     "execution_count": 22,
     "metadata": {},
     "output_type": "execute_result"
    },
    {
     "data": {
      "image/png": "[encoded data removed]",
      "text/plain": [
       "<Figure size 432x288 with 1 Axes>"
      ]
     },
     "metadata": {
      "needs_background": "light"
     },
     "output_type": "display_data"
    }
   ],
   "source": [
    "plt.plot(errors)"
   ]
  },
  {
   "cell_type": "code",
   "execution_count": 23,
   "metadata": {},
   "outputs": [],
   "source": [
    "yh = model.predict(X)"
   ]
  },
  {
   "cell_type": "code",
   "execution_count": 24,
   "metadata": {},
   "outputs": [
    {
     "data": {
      "text/plain": [
       "array([  40.68504805,   94.16686839,  119.19982308,  -38.23061123,\n",
       "       -263.55980217,   15.68502439,   63.62452866,   53.69221497,\n",
       "        -16.54736752,   37.13573491])"
      ]
     },
     "execution_count": 24,
     "metadata": {},
     "output_type": "execute_result"
    }
   ],
   "source": [
    "yh[:10]"
   ]
  },
  {
   "cell_type": "code",
   "execution_count": 25,
   "metadata": {},
   "outputs": [
    {
     "data": {
      "text/plain": [
       "array([  43.5171099 ,   57.65141943,  123.08271761,  -43.37373343,\n",
       "       -247.57689921,    8.53711187,   41.42818339,   51.97005873,\n",
       "        -20.65603669,   57.77285488])"
      ]
     },
     "execution_count": 25,
     "metadata": {},
     "output_type": "execute_result"
    }
   ],
   "source": [
    "y[:10]"
   ]
  },
  {
   "cell_type": "code",
   "execution_count": null,
   "metadata": {},
   "outputs": [],
   "source": []
  }
 ],
 "metadata": {
  "kernelspec": {
   "display_name": "Python 3",
   "language": "python",
   "name": "python3"
  },
  "language_info": {
   "codemirror_mode": {
    "name": "ipython",
    "version": 3
   },
   "file_extension": ".py",
   "mimetype": "text/x-python",
   "name": "python",
   "nbconvert_exporter": "python",
   "pygments_lexer": "ipython3",
   "version": "3.7.6"
  }
 },
 "nbformat": 4,
 "nbformat_minor": 4
}
