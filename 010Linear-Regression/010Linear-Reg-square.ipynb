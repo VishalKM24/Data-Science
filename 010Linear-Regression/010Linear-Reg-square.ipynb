{
 "cells": [
  {
   "cell_type": "code",
   "execution_count": 1,
   "metadata": {},
   "outputs": [],
   "source": [
    "import numpy as np\n",
    "import pandas as pd\n",
    "import matplotlib.pyplot as plt"
   ]
  },
  {
   "cell_type": "code",
   "execution_count": 2,
   "metadata": {},
   "outputs": [],
   "source": [
    "m, c = 4, 100"
   ]
  },
  {
   "cell_type": "code",
   "execution_count": 18,
   "metadata": {},
   "outputs": [],
   "source": [
    "X = np.linspace(0, 50, 100)\n",
    "noise = np.random.rand(100) * 100\n",
    "y = m*X*X + noise"
   ]
  },
  {
   "cell_type": "code",
   "execution_count": 19,
   "metadata": {},
   "outputs": [
    {
     "data": {
      "text/plain": [
       "<matplotlib.collections.PathCollection at 0x1e117bb9dc8>"
      ]
     },
     "execution_count": 19,
     "metadata": {},
     "output_type": "execute_result"
    },
    {
     "data": {
      "image/png": "[encoded data removed]",
      "text/plain": [
       "<Figure size 432x288 with 1 Axes>"
      ]
     },
     "metadata": {
      "needs_background": "light"
     },
     "output_type": "display_data"
    }
   ],
   "source": [
    "plt.scatter(X, y)"
   ]
  },
  {
   "cell_type": "code",
   "execution_count": 20,
   "metadata": {},
   "outputs": [],
   "source": [
    "class CustomLinearReg:\n",
    "    def __init__(self, lr=.1, iters=10):\n",
    "        self.lr = lr\n",
    "        self.iters = iters\n",
    "    \n",
    "    def fit(self, X, y):\n",
    "        self.coef_ = np.random.random()\n",
    "        error = []\n",
    "        for i in range(self.iters):\n",
    "            errors =  self.gradient_decend(X, y)\n",
    "            error.append(errors)\n",
    "            \n",
    "        return error\n",
    "    \n",
    "    def gradient_decend(self, X, y):\n",
    "        delta_coef, error = self.gradient(X, y)\n",
    "        self.coef_ += delta_coef\n",
    "        return error\n",
    "    \n",
    "    def gradient(self, X, y):\n",
    "        yh = self.hypo(X)\n",
    "        error = np.mean((yh-y)**2)\n",
    "        dmsedm = np.mean(2*(yh-y)*X)\n",
    "        return -dmsedm*self.lr, error\n",
    "        \n",
    "    def hypo(self, X):\n",
    "        return X * self.coef_"
   ]
  },
  {
   "cell_type": "code",
   "execution_count": 21,
   "metadata": {},
   "outputs": [
    {
     "data": {
      "text/plain": [
       "[20568823.710842654,\n",
       " 14627029.300778136,\n",
       " 10509114.82339579,\n",
       " 7655226.170784024,\n",
       " 5677360.800767025,\n",
       " 4306616.5643608775,\n",
       " 3356632.9152591582,\n",
       " 2698254.1239488726,\n",
       " 2241969.814995699,\n",
       " 1925745.5177601653,\n",
       " 1706588.7240682535,\n",
       " 1554703.8099702545,\n",
       " 1449441.1496532452,\n",
       " 1376489.6802935908,\n",
       " 1325931.2309279253,\n",
       " 1290892.0901854888,\n",
       " 1266608.4857756973,\n",
       " 1249778.922303638,\n",
       " 1238115.3240222454,\n",
       " 1230031.9578021076,\n",
       " 1224429.843611232,\n",
       " 1220547.341872114,\n",
       " 1217856.6041897575,\n",
       " 1215991.8093327952,\n",
       " 1214699.4277374605,\n",
       " 1213803.752708261,\n",
       " 1213183.012084263,\n",
       " 1212752.8126149022,\n",
       " 1212454.666213195,\n",
       " 1212248.038164623]"
      ]
     },
     "execution_count": 21,
     "metadata": {},
     "output_type": "execute_result"
    }
   ],
   "source": [
    "model = CustomLinearReg(lr = .0001, iters=30)\n",
    "model.fit(X, y)"
   ]
  },
  {
   "cell_type": "code",
   "execution_count": 22,
   "metadata": {},
   "outputs": [],
   "source": [
    "yh = model.hypo(X)"
   ]
  },
  {
   "cell_type": "code",
   "execution_count": 23,
   "metadata": {},
   "outputs": [
    {
     "data": {
      "text/plain": [
       "<matplotlib.collections.PathCollection at 0x1e1179ad808>"
      ]
     },
     "execution_count": 23,
     "metadata": {},
     "output_type": "execute_result"
    },
    {
     "data": {
      "image/png": "[encoded data removed]",
      "text/plain": [
       "<Figure size 432x288 with 1 Axes>"
      ]
     },
     "metadata": {
      "needs_background": "light"
     },
     "output_type": "display_data"
    }
   ],
   "source": [
    "plt.scatter(X, y)\n",
    "plt.scatter(X, yh)"
   ]
  },
  {
   "cell_type": "code",
   "execution_count": null,
   "metadata": {},
   "outputs": [],
   "source": []
  }
 ],
 "metadata": {
  "kernelspec": {
   "display_name": "Python 3",
   "language": "python",
   "name": "python3"
  },
  "language_info": {
   "codemirror_mode": {
    "name": "ipython",
    "version": 3
   },
   "file_extension": ".py",
   "mimetype": "text/x-python",
   "name": "python",
   "nbconvert_exporter": "python",
   "pygments_lexer": "ipython3",
   "version": "3.7.6"
  }
 },
 "nbformat": 4,
 "nbformat_minor": 4
}
