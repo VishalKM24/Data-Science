{
 "cells": [
  {
   "cell_type": "code",
   "execution_count": 6,
   "metadata": {},
   "outputs": [],
   "source": [
    "import numpy as np\n",
    "import matplotlib.pyplot as plt\n",
    "from sklearn.datasets import make_blobs"
   ]
  },
  {
   "cell_type": "code",
   "execution_count": 7,
   "metadata": {},
   "outputs": [],
   "source": [
    "X , y = make_blobs(n_samples=100, centers=4, random_state=42)"
   ]
  },
  {
   "cell_type": "code",
   "execution_count": 8,
   "metadata": {},
   "outputs": [
    {
     "data": {
      "text/plain": [
       "((100, 2), (100,))"
      ]
     },
     "execution_count": 8,
     "metadata": {},
     "output_type": "execute_result"
    }
   ],
   "source": [
    "X.shape, y.shape"
   ]
  },
  {
   "cell_type": "code",
   "execution_count": 10,
   "metadata": {},
   "outputs": [
    {
     "data": {
      "text/plain": [
       "array([1, 0, 0, 0, 1, 0, 0, 0, 0, 0, 0, 0, 0, 0, 0, 1, 1, 0, 1, 1, 0, 1,\n",
       "       1, 0, 0, 0, 0, 1, 1, 0, 0, 0, 0, 1, 0, 0, 0, 0, 0, 0, 1, 0, 0, 0,\n",
       "       0, 0, 0, 1, 1, 0, 0, 0, 0, 0, 1, 1, 0, 0, 0, 0, 0, 0, 1, 0, 1, 1,\n",
       "       0, 1, 0, 0, 0, 0, 1, 0, 0, 1, 0, 1, 0, 0, 0, 0, 0, 1, 0, 0, 0, 0,\n",
       "       0, 0, 0, 0, 0, 0, 0, 0, 0, 0, 1, 0])"
      ]
     },
     "execution_count": 10,
     "metadata": {},
     "output_type": "execute_result"
    }
   ],
   "source": [
    "(y==3).astype(int)"
   ]
  },
  {
   "cell_type": "code",
   "execution_count": 11,
   "metadata": {},
   "outputs": [
    {
     "data": {
      "text/plain": [
       "<matplotlib.collections.PathCollection at 0x2bb3c18aa48>"
      ]
     },
     "execution_count": 11,
     "metadata": {},
     "output_type": "execute_result"
    },
    {
     "data": {
      "image/png": "[encoded data removed]",
      "text/plain": [
       "<Figure size 432x288 with 1 Axes>"
      ]
     },
     "metadata": {
      "needs_background": "light"
     },
     "output_type": "display_data"
    }
   ],
   "source": [
    "plt.scatter(X[:, 0], X[:, 1], c=y)"
   ]
  },
  {
   "cell_type": "code",
   "execution_count": 73,
   "metadata": {},
   "outputs": [],
   "source": [
    "class CustomLogisticReg:\n",
    "    def __init__(self, lr=.01, iters=100):\n",
    "        self.lr = lr\n",
    "        self.iters = iters\n",
    "    \n",
    "    def fit(self, X, y):\n",
    "        \n",
    "        X = np.hstack([np.ones((X.shape[0], 1)), X])\n",
    "        \n",
    "        self.classes_ = np.unique(y)\n",
    "        \n",
    "        thetas = []\n",
    "        \n",
    "        for klass in self.classes_:\n",
    "            \n",
    "            theta = np.random.randn(X.shape[1], 1)\n",
    "\n",
    "            errors = []\n",
    "\n",
    "            for i in range(self.iters):\n",
    "                error = self.gradient_decend(X, (y==klass).astype(int), theta)\n",
    "                errors.append(error)\n",
    "\n",
    "            thetas.append(theta)   \n",
    "        self.thetas_ = np.hstack(thetas)\n",
    "    \n",
    "    def gradient_decend(self, X, y, theta):\n",
    "        delta_theta, error = self.gradient(X, y, theta)\n",
    "        theta += delta_theta\n",
    "        return error\n",
    "    \n",
    "    def gradient(self, X, y, theta):\n",
    "        ya = y.reshape(-1, 1)   # reshape of y because actual y shape is (100,) which needed to be convert over (100, 1)\n",
    "        yh = self.hypo(X, theta)\n",
    "        \n",
    "        dneglldt = np.dot(X.T,(yh-ya))/len(X)\n",
    "       \n",
    "        delta_theta = -dneglldt*self.lr\n",
    "       \n",
    "        error = -np.mean((ya * np.log(yh)) + ((1-ya)*np.log(1-yh)))\n",
    "        return delta_theta, error\n",
    "        \n",
    "    def hypo(self, X, theta):\n",
    "        g = np.dot(X, theta)\n",
    "        return 1/ (1 + np.exp(-g))\n",
    "    \n",
    "    def predict_prob(self, X):\n",
    "        X = np.hstack([np.ones([X.shape[0], 1]), X])\n",
    "        return self.hypo(X, self.thetas_)\n",
    "       \n",
    "    def predict(self, X):\n",
    "        probs = self.predict_prob(X) \n",
    "        return probs.argmax(axis=1)\n",
    "        \n",
    "    def score(self, X, y):\n",
    "        yp = self.predict(X)\n",
    "        \n",
    "        return np.mean(yp==y)"
   ]
  },
  {
   "cell_type": "code",
   "execution_count": 74,
   "metadata": {},
   "outputs": [],
   "source": [
    "model = CustomLogisticReg(iters=1000)"
   ]
  },
  {
   "cell_type": "code",
   "execution_count": 75,
   "metadata": {},
   "outputs": [],
   "source": [
    "errors = model.fit(X, y)"
   ]
  },
  {
   "cell_type": "code",
   "execution_count": 76,
   "metadata": {},
   "outputs": [
    {
     "data": {
      "text/plain": [
       "array([[-0.87697289, -0.44847506, -0.97178207, -1.79626191],\n",
       "       [ 0.12666979,  1.12924068, -0.29921282, -0.20347889],\n",
       "       [ 0.1828793 , -0.18523453, -0.97466372,  0.10911823]])"
      ]
     },
     "execution_count": 76,
     "metadata": {},
     "output_type": "execute_result"
    }
   ],
   "source": [
    "model.thetas_"
   ]
  },
  {
   "cell_type": "code",
   "execution_count": null,
   "metadata": {},
   "outputs": [],
   "source": []
  },
  {
   "cell_type": "code",
   "execution_count": 77,
   "metadata": {},
   "outputs": [],
   "source": [
    "from sklearn.model_selection import train_test_split"
   ]
  },
  {
   "cell_type": "code",
   "execution_count": 78,
   "metadata": {},
   "outputs": [],
   "source": [
    "X_train, X_test, y_train, y_test = train_test_split(X, y, test_size=0.33, random_state=42)"
   ]
  },
  {
   "cell_type": "code",
   "execution_count": 79,
   "metadata": {},
   "outputs": [
    {
     "data": {
      "text/plain": [
       "(100, 2)"
      ]
     },
     "execution_count": 79,
     "metadata": {},
     "output_type": "execute_result"
    }
   ],
   "source": [
    "X.shape"
   ]
  },
  {
   "cell_type": "code",
   "execution_count": 80,
   "metadata": {},
   "outputs": [],
   "source": [
    "model = CustomLogisticReg(lr=.1, iters=1000)"
   ]
  },
  {
   "cell_type": "code",
   "execution_count": 81,
   "metadata": {},
   "outputs": [],
   "source": [
    "model.fit(X_train, y_train)"
   ]
  },
  {
   "cell_type": "code",
   "execution_count": 82,
   "metadata": {},
   "outputs": [
    {
     "data": {
      "text/plain": [
       "1.0"
      ]
     },
     "execution_count": 82,
     "metadata": {},
     "output_type": "execute_result"
    }
   ],
   "source": [
    "model.score(X_test, y_test)"
   ]
  },
  {
   "cell_type": "code",
   "execution_count": 83,
   "metadata": {},
   "outputs": [
    {
     "data": {
      "text/plain": [
       "array([[-5.40908440e+00, -7.03157189e-01,  1.21349656e-03,\n",
       "        -5.98094686e+00],\n",
       "       [ 3.36800099e-01,  1.94997209e+00, -6.83993081e-01,\n",
       "        -6.78416345e-01],\n",
       "       [ 8.78504692e-01, -2.25278146e-01, -1.81245955e+00,\n",
       "         2.45363514e-01]])"
      ]
     },
     "execution_count": 83,
     "metadata": {},
     "output_type": "execute_result"
    }
   ],
   "source": [
    "model.thetas_"
   ]
  },
  {
   "cell_type": "code",
   "execution_count": 84,
   "metadata": {},
   "outputs": [
    {
     "data": {
      "text/plain": [
       "array([[2.74358516e-02, 8.40149331e-10, 1.97971766e-02, 8.82345873e-01],\n",
       "       [4.66652979e-07, 2.24392338e-05, 9.99999993e-01, 2.07196435e-02],\n",
       "       [8.79046622e-01, 1.72587593e-04, 2.30551206e-07, 1.65858820e-01],\n",
       "       [4.89723917e-07, 7.35785291e-05, 9.99999993e-01, 1.34204423e-02],\n",
       "       [2.07686047e-01, 5.51311269e-09, 2.05852683e-04, 8.46435293e-01],\n",
       "       [4.55686630e-07, 5.73077919e-07, 9.99999994e-01, 7.80762967e-02],\n",
       "       [2.41523800e-01, 9.99757956e-01, 1.59478850e-04, 1.78642731e-04],\n",
       "       [1.33172540e-01, 9.99383701e-01, 7.12712262e-04, 2.23043368e-04],\n",
       "       [2.26307637e-01, 9.99618512e-01, 1.89534107e-04, 2.09043002e-04],\n",
       "       [8.33037297e-01, 4.74500228e-05, 4.97232542e-07, 2.32570392e-01],\n",
       "       [8.29063996e-01, 1.64363828e-04, 5.30614041e-07, 1.58376885e-01],\n",
       "       [3.56118904e-06, 4.04012835e-06, 9.99999567e-01, 5.54403805e-02],\n",
       "       [1.61906571e-06, 9.00760298e-06, 9.99999915e-01, 3.61573546e-02],\n",
       "       [2.82935253e-02, 9.97557096e-01, 2.13751325e-02, 2.78024742e-04],\n",
       "       [8.87371977e-01, 1.97470323e-03, 1.97753206e-07, 7.40671545e-02],\n",
       "       [1.31369115e-01, 3.46069914e-10, 6.30101568e-04, 9.34437237e-01],\n",
       "       [2.43753305e-01, 4.43256995e-09, 1.34271645e-04, 8.61438989e-01],\n",
       "       [2.21735953e-01, 9.99465409e-01, 1.99732839e-04, 2.36461313e-04],\n",
       "       [1.07674338e-01, 5.36686194e-10, 1.00567643e-03, 9.20516563e-01],\n",
       "       [1.35090624e-01, 7.96449415e-09, 5.99561445e-04, 8.13531568e-01],\n",
       "       [7.50201144e-01, 2.19162693e-04, 1.42769072e-06, 1.33915646e-01],\n",
       "       [1.57314202e-01, 2.48081280e-09, 4.12604784e-04, 8.75234707e-01],\n",
       "       [2.05850632e-01, 1.07483471e-09, 2.08826992e-04, 9.10934304e-01],\n",
       "       [3.45236704e-01, 9.99740940e-01, 5.63685429e-05, 2.00926331e-04],\n",
       "       [3.20722527e-01, 9.99434721e-01, 7.04828714e-05, 2.64776090e-04],\n",
       "       [9.19712996e-01, 1.56370892e-04, 9.01798931e-08, 1.83171667e-01],\n",
       "       [4.93049052e-02, 9.94700313e-01, 6.57283604e-03, 4.14686479e-04],\n",
       "       [7.62533191e-02, 1.27932698e-08, 2.23470402e-03, 7.64455925e-01],\n",
       "       [1.69538689e-01, 3.89797268e-10, 3.39769242e-04, 9.35015012e-01],\n",
       "       [2.16216688e-07, 4.20067824e-07, 9.99999999e-01, 7.67995584e-02],\n",
       "       [1.02036564e-06, 8.77093995e-07, 9.99999967e-01, 7.70232499e-02],\n",
       "       [1.43826872e-01, 9.99779321e-01, 5.96152266e-04, 1.53537518e-04],\n",
       "       [1.27798008e-06, 2.23485847e-06, 9.99999947e-01, 5.74684305e-02],\n",
       "       [9.25539006e-02, 3.58698574e-08, 1.45391788e-03, 6.95226495e-01],\n",
       "       [9.46393306e-01, 8.83456536e-03, 3.77735469e-08, 4.97387534e-02],\n",
       "       [7.69654392e-01, 1.61271394e-04, 1.14394582e-06, 1.50462633e-01],\n",
       "       [6.07306879e-01, 7.65587282e-04, 5.64670866e-06, 7.85449647e-02],\n",
       "       [8.07798007e-01, 9.98718009e-04, 7.19817905e-07, 8.46146066e-02],\n",
       "       [1.80078312e-01, 9.99933011e-01, 3.45318301e-04, 1.02562780e-04],\n",
       "       [2.12875079e-02, 9.99801922e-01, 3.88248092e-02, 1.01586170e-04],\n",
       "       [3.76890619e-02, 2.62013613e-10, 1.01013420e-02, 9.25295294e-01],\n",
       "       [8.03632229e-02, 9.99095672e-01, 2.27279279e-03, 2.32811883e-04],\n",
       "       [3.70381414e-07, 4.23251797e-06, 9.99999996e-01, 3.67907186e-02],\n",
       "       [8.00675336e-01, 3.49688314e-05, 7.76184608e-07, 2.46470924e-01],\n",
       "       [7.95993454e-01, 4.15994252e-04, 8.35110611e-07, 1.12814278e-01],\n",
       "       [1.10896433e-06, 3.94182082e-07, 9.99999960e-01, 1.02943673e-01],\n",
       "       [7.16024398e-07, 1.45303461e-07, 9.99999984e-01, 1.34007802e-01],\n",
       "       [1.74328672e-01, 4.00154645e-09, 3.20968268e-04, 8.56816717e-01],\n",
       "       [3.38324608e-01, 2.30179759e-09, 5.16801310e-05, 8.96587310e-01],\n",
       "       [5.59336349e-02, 9.98400495e-01, 5.03495312e-03, 2.69360575e-04],\n",
       "       [9.33653614e-02, 9.31270965e-01, 1.58355319e-03, 1.27233305e-03],\n",
       "       [8.97004764e-02, 9.99651939e-01, 1.78412823e-03, 1.65627963e-04],\n",
       "       [3.43482785e-01, 9.99896810e-01, 5.75606391e-05, 1.41505333e-04],\n",
       "       [2.26940986e-06, 4.84449214e-06, 9.99999829e-01, 4.80485938e-02],\n",
       "       [4.97781678e-01, 1.00892941e-08, 1.33075650e-05, 8.48096530e-01],\n",
       "       [1.97801143e-01, 1.71462022e-09, 2.32062771e-04, 8.94620826e-01],\n",
       "       [8.31998311e-01, 6.29863415e-05, 5.05694391e-07, 2.13717138e-01],\n",
       "       [5.16388500e-01, 1.20039404e-03, 1.21484214e-05, 6.29444729e-02],\n",
       "       [1.11999104e-01, 9.99981516e-01, 1.09026105e-03, 5.68882567e-05],\n",
       "       [6.43361822e-01, 1.91418432e-05, 4.03061949e-06, 2.62185213e-01],\n",
       "       [6.16500361e-07, 7.23995029e-06, 9.99999988e-01, 3.30564273e-02],\n",
       "       [6.67799455e-02, 9.98647971e-01, 3.42013955e-03, 2.61534000e-04],\n",
       "       [6.31569822e-02, 2.28664762e-09, 3.35795182e-03, 8.57365686e-01],\n",
       "       [5.35595025e-07, 8.30454913e-08, 9.99999991e-01, 1.53604845e-01],\n",
       "       [5.86244108e-01, 1.00694240e-09, 6.29219867e-06, 9.34564900e-01],\n",
       "       [4.85974875e-02, 6.25825291e-09, 5.96651410e-03, 7.95945066e-01],\n",
       "       [9.29432946e-06, 2.24732594e-06, 9.99996859e-01, 8.02987666e-02],\n",
       "       [4.88756016e-02, 6.60368300e-10, 5.82371775e-03, 9.01618217e-01],\n",
       "       [1.36998155e-01, 9.98832030e-01, 6.63945768e-04, 2.85998608e-04],\n",
       "       [1.06876024e-06, 5.84853930e-06, 9.99999964e-01, 3.93612765e-02],\n",
       "       [5.05382603e-02, 9.99396654e-01, 6.30421713e-03, 1.82437748e-04],\n",
       "       [1.54323264e-06, 5.24676809e-06, 9.99999923e-01, 4.36568795e-02],\n",
       "       [1.44732072e-01, 2.63124168e-10, 4.99125339e-04, 9.41659023e-01],\n",
       "       [5.57692371e-01, 1.41455645e-03, 8.63105424e-06, 6.10773932e-02],\n",
       "       [6.95179391e-07, 4.73482791e-06, 9.99999985e-01, 3.94314033e-02],\n",
       "       [2.20116145e-01, 1.85663823e-08, 1.77899849e-04, 7.78984056e-01],\n",
       "       [6.14268198e-07, 1.99762894e-05, 9.99999989e-01, 2.27183329e-02],\n",
       "       [5.03743905e-02, 4.51216967e-09, 5.51229066e-03, 8.16394988e-01],\n",
       "       [2.30202968e-06, 1.32390988e-04, 9.99999827e-01, 1.42224711e-02],\n",
       "       [6.59104700e-07, 1.66628975e-07, 9.99999986e-01, 1.26418354e-01],\n",
       "       [7.18991733e-02, 9.99841639e-01, 2.93875889e-03, 1.17588550e-04],\n",
       "       [6.05576450e-07, 8.12565479e-07, 9.99999989e-01, 7.24618641e-02],\n",
       "       [7.04626367e-01, 3.17972689e-03, 2.32816692e-06, 5.09572082e-02],\n",
       "       [2.87526571e-01, 1.06404773e-07, 8.59206521e-05, 6.59829354e-01],\n",
       "       [6.75059855e-01, 6.01919797e-04, 3.06870628e-06, 8.97038584e-02],\n",
       "       [5.03418978e-01, 1.13726040e-03, 1.35165778e-05, 6.36007134e-02],\n",
       "       [8.76554093e-01, 8.85474582e-03, 2.47012928e-07, 4.24274224e-02],\n",
       "       [2.99552036e-06, 4.08686189e-07, 9.99999693e-01, 1.19436898e-01],\n",
       "       [6.30545419e-01, 3.20668519e-05, 4.53104066e-06, 2.24356051e-01],\n",
       "       [2.84512116e-02, 9.99427579e-01, 2.12907719e-02, 1.60404203e-04],\n",
       "       [8.73606506e-02, 9.99707591e-01, 1.89559969e-03, 1.54217513e-04],\n",
       "       [2.97616345e-06, 2.72829484e-05, 9.99999704e-01, 2.67883123e-02],\n",
       "       [5.29558548e-01, 1.13999255e-04, 1.07594411e-05, 1.42168016e-01],\n",
       "       [8.73317348e-06, 6.67318444e-06, 9.99997254e-01, 5.40388256e-02],\n",
       "       [9.56457150e-01, 9.92933073e-05, 2.35025275e-08, 2.30728871e-01],\n",
       "       [8.78070442e-01, 1.13394927e-04, 2.34415533e-07, 1.88839074e-01],\n",
       "       [9.44290593e-01, 2.94082210e-03, 4.08382848e-08, 7.32480698e-02],\n",
       "       [1.40361056e-01, 9.99444140e-01, 6.29013080e-04, 2.16865905e-04],\n",
       "       [3.40393080e-01, 2.02936417e-08, 5.12987072e-05, 7.91806544e-01],\n",
       "       [6.49351385e-02, 9.98226762e-01, 3.63223646e-03, 2.88333840e-04]])"
      ]
     },
     "execution_count": 84,
     "metadata": {},
     "output_type": "execute_result"
    }
   ],
   "source": [
    "model.predict_prob(X)"
   ]
  },
  {
   "cell_type": "code",
   "execution_count": null,
   "metadata": {},
   "outputs": [],
   "source": []
  }
 ],
 "metadata": {
  "kernelspec": {
   "display_name": "Python 3",
   "language": "python",
   "name": "python3"
  },
  "language_info": {
   "codemirror_mode": {
    "name": "ipython",
    "version": 3
   },
   "file_extension": ".py",
   "mimetype": "text/x-python",
   "name": "python",
   "nbconvert_exporter": "python",
   "pygments_lexer": "ipython3",
   "version": "3.7.6"
  }
 },
 "nbformat": 4,
 "nbformat_minor": 4
}
