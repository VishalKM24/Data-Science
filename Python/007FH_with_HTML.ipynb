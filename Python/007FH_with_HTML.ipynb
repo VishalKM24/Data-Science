{
 "cells": [
  {
   "cell_type": "code",
   "execution_count": 1,
   "metadata": {},
   "outputs": [],
   "source": [
    "from bs4 import BeautifulSoup\n",
    "import requests"
   ]
  },
  {
   "cell_type": "markdown",
   "metadata": {},
   "source": [
    "### BeautifulSoup from library bs4 is used to play with HTML and XML files"
   ]
  },
  {
   "cell_type": "code",
   "execution_count": 2,
   "metadata": {},
   "outputs": [],
   "source": [
    "url = r\"https://codingblocks.com/\""
   ]
  },
  {
   "cell_type": "code",
   "execution_count": 3,
   "metadata": {},
   "outputs": [],
   "source": [
    "result = requests.get(url)"
   ]
  },
  {
   "cell_type": "code",
   "execution_count": 4,
   "metadata": {},
   "outputs": [
    {
     "data": {
      "text/plain": [
       "200"
      ]
     },
     "execution_count": 4,
     "metadata": {},
     "output_type": "execute_result"
    }
   ],
   "source": [
    "result.status_code"
   ]
  },
  {
   "cell_type": "code",
   "execution_count": 5,
   "metadata": {},
   "outputs": [],
   "source": [
    "abc = BeautifulSoup(result.text)"
   ]
  },
  {
   "cell_type": "markdown",
   "metadata": {},
   "source": [
    "### play with html functions"
   ]
  },
  {
   "cell_type": "code",
   "execution_count": 6,
   "metadata": {},
   "outputs": [
    {
     "data": {
      "text/plain": [
       "<title>Best programming Courses in Delhi-NCR | Coding Blocks</title>"
      ]
     },
     "execution_count": 6,
     "metadata": {},
     "output_type": "execute_result"
    }
   ],
   "source": [
    "abc.title"
   ]
  },
  {
   "cell_type": "code",
   "execution_count": 7,
   "metadata": {},
   "outputs": [
    {
     "data": {
      "text/plain": [
       "<h2 class=\"mb-xs-16 all-caps\">WE BRING THE CLASSROOM TO YOUR HOME THIS COVID-19</h2>"
      ]
     },
     "execution_count": 7,
     "metadata": {},
     "output_type": "execute_result"
    }
   ],
   "source": [
    "abc.h2"
   ]
  },
  {
   "cell_type": "code",
   "execution_count": 8,
   "metadata": {},
   "outputs": [
    {
     "data": {
      "text/plain": [
       "[<h2 class=\"mb-xs-16 all-caps\">WE BRING THE CLASSROOM TO YOUR HOME THIS COVID-19</h2>,\n",
       " <h2 class=\"mb-xs-16 all-caps\">Test on 3rd May</h2>,\n",
       " <h2 class=\"mb-xs-16 all-caps\">Introducing Summer batches !</h2>,\n",
       " <h2 class=\"mb-xs-16 all-caps\">LEARN FROM HOME | LEARN ONLINE!</h2>,\n",
       " <h2 class=\"mb-xs-16 all-caps\">THE BEST CAMPUS AMBASSADOR PROGRAM IS HERE!</h2>,\n",
       " <h2 class=\"mb-xs-16 all-caps\">Success stories</h2>,\n",
       " <h2 class=\"uppercase\">NUMBERS SPEAK LOUDER<br/></h2>,\n",
       " <h2 class=\"uppercase mb16\">team</h2>,\n",
       " <h2 class=\"uppercase text-center\">What our students say</h2>]"
      ]
     },
     "execution_count": 8,
     "metadata": {},
     "output_type": "execute_result"
    }
   ],
   "source": [
    "abc.find_all(\"h2\")"
   ]
  },
  {
   "cell_type": "code",
   "execution_count": 9,
   "metadata": {},
   "outputs": [],
   "source": [
    "img_tags = abc.find_all(\"img\")"
   ]
  },
  {
   "cell_type": "markdown",
   "metadata": {},
   "source": [
    "### dir(img_tags) to check out the attributes available to play with"
   ]
  },
  {
   "cell_type": "code",
   "execution_count": 10,
   "metadata": {},
   "outputs": [
    {
     "data": {
      "text/plain": [
       "'assets/images/cb/cover/cast_banner.jpg'"
      ]
     },
     "execution_count": 10,
     "metadata": {},
     "output_type": "execute_result"
    }
   ],
   "source": [
    "img_tags[5].get(\"src\")"
   ]
  },
  {
   "cell_type": "markdown",
   "metadata": {},
   "source": [
    "###  for img_tag in img_tags:\n",
    "###  print(img_tag.get(\"src\"))"
   ]
  },
  {
   "cell_type": "markdown",
   "metadata": {},
   "source": [
    "### the few tags are without domains"
   ]
  },
  {
   "cell_type": "code",
   "execution_count": 11,
   "metadata": {},
   "outputs": [
    {
     "name": "stdout",
     "output_type": "stream",
     "text": [
      "https://www.facebook.com/tr?id=1947467048859851&ev=PageView\n",
      "    &noscript=1\n",
      "https://q.quora.com/_/ad/0e6543f4ed0047658c67c5d04a8ace8d/pixel?tag=ViewContent&noscript=1\n",
      "/assets/images/logo-light.png\n",
      "/assets/images/cb/cblogo.png\n",
      "assets/images/cb/cover/live_class_banner.jpg\n",
      "assets/images/cb/cover/cast_banner.jpg\n",
      "assets/images/cb/cover/summer_batches.jpg\n",
      "assets/images/cb/cover/online_banner.jpg\n",
      "assets/images/cb/cover/cover5.jpg\n",
      "assets/images/cb/cover/cast.jpg\n",
      "assets/images/cb/logosc/color_cpp.svg\n",
      "assets/images/cb/logosc/color_java.svg\n",
      "assets/images/cb/logosc/color_nodejs.svg\n",
      "https://minio.codingblocks.com/amoeba/0ee7474c-de3c-44d7-a704-646491c702e8.svg\n",
      "assets/images/cb/logosc/color_java.svg\n",
      "assets/images/cb/logosc/color_cp.svg\n",
      "assets/images/cb/logosc/color_algo.svg\n",
      "assets/images/cb/logosc/color_cpp.svg\n",
      "assets/images/cb/logosc/color_algo.svg\n",
      "assets/images/cb/logosc/color_java.svg\n",
      "assets/images/cb/logosc/color_java.svg\n",
      "assets/images/cb/logosc/color_python.svg\n",
      "assets/images/cb/logosc/color_android.svg\n",
      "assets/images/cb/logosc/color_nodejs.svg\n",
      "https://minio.codingblocks.com/amoeba/0ee7474c-de3c-44d7-a704-646491c702e8.svg\n",
      "assets/images/cb/logosc/color_ml.svg\n",
      "assets/images/cb/logosc/color_cp.svg\n",
      "assets/images/cb/logosc/color_python.svg\n",
      "assets/images/cb/logosc/color_cp.svg\n",
      "assets/images/cb/logosc/color_java.svg\n",
      "assets/images/cb/logosc/color_cpp.svg\n",
      "assets/images/cb/logosc/color_algo.svg\n",
      "assets/images/cb/logosc/color_java.svg\n",
      "assets/images/cb/logosc/color_nodejs.svg\n",
      "assets/images/cb/logosc/color_cp.svg\n",
      "https://minio.codingblocks.com/amoeba/bcbc38ad-abc5-4fc5-a27d-3b455130da51.svg\n",
      "assets/images/cb/logosc/color_android.svg\n",
      "assets/images/cb/logosc/color_ml.svg\n",
      "https://minio.codingblocks.com/amoeba/0ee7474c-de3c-44d7-a704-646491c702e8.svg\n",
      "assets/images/cb/team/wmanmohan.jpg\n",
      "assets/images/cb/team/wmanmohan.jpg\n",
      "assets/images/cb/team/c_badebhayia.jpg\n",
      "assets/images/cb/team/c_badebhayia.jpg\n",
      "assets/images/cb/team/wanushray.jpg\n",
      "assets/images/cb/team/wanushray.jpg\n",
      "assets/images/cb/team/wpriyanshu.jpg\n",
      "assets/images/cb/team/wpriyanshu.jpg\n",
      "assets/images/cb/team/warnav.jpg\n",
      "assets/images/cb/team/warnav.jpg\n",
      "assets/images/cb/team/wprateek.jpg\n",
      "assets/images/cb/team/wprateek.jpg\n",
      "assets/images/cb/team/Varun Final.jpg\n",
      "assets/images/cb/team/Varun Final.jpg\n",
      "assets/images/cb/team/wrajesh.jpg\n",
      "assets/images/cb/team/wrajesh.jpg\n",
      "assets/images/cb/team/wvarun.jpg\n",
      "assets/images/cb/team/wvarun.jpg\n",
      "assets/images/cb/team/Garima Final.jpg\n",
      "assets/images/cb/team/Garima Final.jpg\n",
      "assets/images/cb/team/c_rishab.jpg\n",
      "assets/images/cb/team/c_rishab.jpg\n",
      "assets/images/cb/team/c_anuj.jpg\n",
      "assets/images/cb/team/c_anuj.jpg\n",
      "assets/images/reviews/pic2.jpg\n",
      "assets/images/reviews/pic14.jpg\n",
      "assets/images/reviews/mpic6.jpg\n",
      "assets/images/reviews/pic49.jpg\n",
      "assets/images/reviews/pic47.jpg\n",
      "assets/images/reviews/pic33.jpeg\n",
      "assets/images/reviews/pic52.jpg\n",
      "assets/images/reviews/pic36.jpg\n",
      "assets/images/reviews/pic35.jpg\n",
      "assets/images/reviews/pic39.jpg\n",
      "assets/images/reviews/pic45.jpg\n",
      "assets/images/reviews/mpic15.jpg\n",
      "/assets/images/cb/cb_tshirt_logo.png\n",
      "https://pbs.twimg.com/profile_images/749503540184350720/WUQ7-NHv_bigger.jpg\n",
      "https://pbs.twimg.com/profile_images/749503540184350720/WUQ7-NHv_bigger.jpg\n",
      "https://pbs.twimg.com/profile_images/749503540184350720/WUQ7-NHv_bigger.jpg\n",
      "//googleads.g.doubleclick.net/pagead/viewthroughconversion/858471704/?guid=ON&script=0\n",
      "assets/images/icons/caller.png\n"
     ]
    }
   ],
   "source": [
    "for img_tag in img_tags:\n",
    "    print(img_tag.get(\"src\"))"
   ]
  },
  {
   "cell_type": "code",
   "execution_count": 17,
   "metadata": {},
   "outputs": [],
   "source": [
    "set_urls = set()\n",
    "for img_tag in img_tags:\n",
    "    member_url = img_tag.get(\"src\")\n",
    "    if \"images\" in member_url:\n",
    "        set_urls.add(member_url)"
   ]
  },
  {
   "cell_type": "code",
   "execution_count": 13,
   "metadata": {},
   "outputs": [
    {
     "data": {
      "text/plain": [
       "{'assets/images/cb/team/Garima Final.jpg',\n",
       " 'assets/images/cb/team/Varun Final.jpg',\n",
       " 'assets/images/cb/team/c_anuj.jpg',\n",
       " 'assets/images/cb/team/c_badebhayia.jpg',\n",
       " 'assets/images/cb/team/c_rishab.jpg',\n",
       " 'assets/images/cb/team/wanushray.jpg',\n",
       " 'assets/images/cb/team/warnav.jpg',\n",
       " 'assets/images/cb/team/wmanmohan.jpg',\n",
       " 'assets/images/cb/team/wprateek.jpg',\n",
       " 'assets/images/cb/team/wpriyanshu.jpg',\n",
       " 'assets/images/cb/team/wrajesh.jpg',\n",
       " 'assets/images/cb/team/wvarun.jpg'}"
      ]
     },
     "execution_count": 13,
     "metadata": {},
     "output_type": "execute_result"
    }
   ],
   "source": [
    "set_urls"
   ]
  },
  {
   "cell_type": "markdown",
   "metadata": {},
   "source": [
    "### use of set because the url can consist of duplicate url"
   ]
  },
  {
   "cell_type": "code",
   "execution_count": 21,
   "metadata": {},
   "outputs": [],
   "source": [
    "first = list(set_urls)[5]"
   ]
  },
  {
   "cell_type": "markdown",
   "metadata": {},
   "source": [
    "### index defines here over the url present in list"
   ]
  },
  {
   "cell_type": "code",
   "execution_count": 22,
   "metadata": {},
   "outputs": [],
   "source": [
    "total = url + first"
   ]
  },
  {
   "cell_type": "code",
   "execution_count": 23,
   "metadata": {},
   "outputs": [
    {
     "data": {
      "text/plain": [
       "'https://codingblocks.com/assets/images/reviews/pic2.jpg'"
      ]
     },
     "execution_count": 23,
     "metadata": {},
     "output_type": "execute_result"
    }
   ],
   "source": [
    "total"
   ]
  },
  {
   "cell_type": "code",
   "execution_count": 24,
   "metadata": {},
   "outputs": [],
   "source": [
    "line = \"hello\""
   ]
  },
  {
   "cell_type": "code",
   "execution_count": 29,
   "metadata": {},
   "outputs": [
    {
     "name": "stdout",
     "output_type": "stream",
     "text": [
      "-1\n",
      "2\n"
     ]
    }
   ],
   "source": [
    "print(line.find(\"z\"))\n",
    "print(line.find(\"ll\"))"
   ]
  },
  {
   "cell_type": "code",
   "execution_count": 38,
   "metadata": {},
   "outputs": [],
   "source": [
    "def save_img(url,dest):\n",
    "    res = requests.get(url)\n",
    "    if res.status_code == 200:\n",
    "        with open(dest,\"wb\") as photo:\n",
    "            photo.write(res.content)"
   ]
  },
  {
   "cell_type": "code",
   "execution_count": 40,
   "metadata": {},
   "outputs": [],
   "source": [
    "for location in list(set_urls)[:2]:\n",
    "    total = url + location\n",
    "    fname  = location.split(\"/\")[-1]\n",
    "    save_img(total,fname)"
   ]
  },
  {
   "cell_type": "code",
   "execution_count": 30,
   "metadata": {},
   "outputs": [
    {
     "data": {
      "text/plain": [
       "'pic2.jpg'"
      ]
     },
     "execution_count": 30,
     "metadata": {},
     "output_type": "execute_result"
    }
   ],
   "source": [
    "total.split(\"/\")[-1]"
   ]
  },
  {
   "cell_type": "code",
   "execution_count": 49,
   "metadata": {},
   "outputs": [],
   "source": [
    "import os"
   ]
  },
  {
   "cell_type": "code",
   "execution_count": 51,
   "metadata": {},
   "outputs": [
    {
     "data": {
      "text/plain": [
       "\u001b[1;31mSignature:\u001b[0m \u001b[0mos\u001b[0m\u001b[1;33m.\u001b[0m\u001b[0msystem\u001b[0m\u001b[1;33m(\u001b[0m\u001b[0mcommand\u001b[0m\u001b[1;33m)\u001b[0m\u001b[1;33m\u001b[0m\u001b[1;33m\u001b[0m\u001b[0m\n",
       "\u001b[1;31mDocstring:\u001b[0m Execute the command in a subshell.\n",
       "\u001b[1;31mType:\u001b[0m      builtin_function_or_method\n"
      ]
     },
     "metadata": {},
     "output_type": "display_data"
    }
   ],
   "source": [
    "os.system?"
   ]
  },
  {
   "cell_type": "code",
   "execution_count": 53,
   "metadata": {},
   "outputs": [
    {
     "data": {
      "text/plain": [
       "False"
      ]
     },
     "execution_count": 53,
     "metadata": {},
     "output_type": "execute_result"
    }
   ],
   "source": [
    "os.path.exists(\"Photos\")"
   ]
  },
  {
   "cell_type": "code",
   "execution_count": 58,
   "metadata": {},
   "outputs": [],
   "source": [
    "if not os.path.exists(\"Photos\"):\n",
    "    os.mkdir(\"Photos\")"
   ]
  },
  {
   "cell_type": "code",
   "execution_count": 59,
   "metadata": {},
   "outputs": [
    {
     "data": {
      "text/plain": [
       "True"
      ]
     },
     "execution_count": 59,
     "metadata": {},
     "output_type": "execute_result"
    }
   ],
   "source": [
    "os.path.exists(\"Photos\")"
   ]
  },
  {
   "cell_type": "code",
   "execution_count": 61,
   "metadata": {},
   "outputs": [
    {
     "data": {
      "text/plain": [
       "['https:',\n",
       " '',\n",
       " 'codingblocks.com',\n",
       " 'assets',\n",
       " 'images',\n",
       " 'cb',\n",
       " 'team',\n",
       " 'wpriyanshu.jpg']"
      ]
     },
     "execution_count": 61,
     "metadata": {},
     "output_type": "execute_result"
    }
   ],
   "source": [
    "total.split(\"/\")"
   ]
  }
 ],
 "metadata": {
  "kernelspec": {
   "display_name": "Python 3",
   "language": "python",
   "name": "python3"
  },
  "language_info": {
   "codemirror_mode": {
    "name": "ipython",
    "version": 3
   },
   "file_extension": ".py",
   "mimetype": "text/x-python",
   "name": "python",
   "nbconvert_exporter": "python",
   "pygments_lexer": "ipython3",
   "version": "3.7.6"
  }
 },
 "nbformat": 4,
 "nbformat_minor": 4
}
