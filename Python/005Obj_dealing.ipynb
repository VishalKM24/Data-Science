{
 "cells": [
  {
   "cell_type": "code",
   "execution_count": 1,
   "metadata": {},
   "outputs": [],
   "source": [
    "class Human:\n",
    "    aadhar_seq = 0\n",
    "    population = 0\n",
    "    aadhar = []\n",
    "    def __init__(self,name):\n",
    "        self.id = Human.aadhar_seq\n",
    "        self.name = name\n",
    "        self.alive = True\n",
    "        Human.population += 1\n",
    "        Human.aadhar_seq += 1\n",
    "        Human.aadhar.append(self)\n",
    "        \n",
    "    def die(self):\n",
    "        self.alive = False\n",
    "        \n",
    "    def __repr__(self):\n",
    "        return \" {} : {} : {}\".format(self.id,self.name,self.alive)"
   ]
  },
  {
   "cell_type": "code",
   "execution_count": 2,
   "metadata": {},
   "outputs": [],
   "source": [
    "Vishal = Human(\"Vishal Mandal\")"
   ]
  },
  {
   "cell_type": "code",
   "execution_count": 3,
   "metadata": {},
   "outputs": [
    {
     "data": {
      "text/plain": [
       "' 0 : Vishal Mandal : True'"
      ]
     },
     "execution_count": 3,
     "metadata": {},
     "output_type": "execute_result"
    }
   ],
   "source": [
    "Vishal.__repr__()"
   ]
  },
  {
   "cell_type": "code",
   "execution_count": 4,
   "metadata": {},
   "outputs": [],
   "source": [
    "Vishal.die()"
   ]
  },
  {
   "cell_type": "code",
   "execution_count": 5,
   "metadata": {},
   "outputs": [
    {
     "data": {
      "text/plain": [
       "False"
      ]
     },
     "execution_count": 5,
     "metadata": {},
     "output_type": "execute_result"
    }
   ],
   "source": [
    "Vishal.alive"
   ]
  },
  {
   "cell_type": "code",
   "execution_count": 9,
   "metadata": {},
   "outputs": [],
   "source": [
    "class Human:\n",
    "    aadhar_seq = 0\n",
    "    population = 0\n",
    "    aadhar = []\n",
    "    def __init__(self,name):\n",
    "        self.id = Human.aadhar_seq\n",
    "        self.name = name\n",
    "        self.alive = True\n",
    "        Human.population += 1\n",
    "        Human.aadhar_seq += 1\n",
    "        Human.aadhar.append(self)\n",
    "        \n",
    "    def die(self):\n",
    "        self.alive = False\n",
    "        \n",
    "    def __repr__(self):\n",
    "        return \" {} : {} : {}\".format(self.id,self.name,self.alive)\n",
    "\n",
    "    \n",
    "class Hitman(Human):\n",
    "    def __init__(self,name=\"killer\"):\n",
    "        super().__init__(name)\n",
    "        self.kills = 0\n",
    "        \n",
    "    def kill(self,person):\n",
    "        if self is person:\n",
    "            print(\"Suicide is not an option\")\n",
    "        elif not self.alive:\n",
    "            print(\"Hitman is not alive\")\n",
    "        else:\n",
    "            person.die()\n",
    "            self.kills += 1"
   ]
  },
  {
   "cell_type": "code",
   "execution_count": 10,
   "metadata": {},
   "outputs": [],
   "source": [
    "manish = Hitman(\"Lone Wolf\")\n",
    "aaryan = Hitman(\"Rithik Arora\")\n",
    "aayush = Hitman(\"Aayush Kumar\")"
   ]
  },
  {
   "cell_type": "code",
   "execution_count": 12,
   "metadata": {},
   "outputs": [],
   "source": [
    "manish.kill(aaryan)"
   ]
  },
  {
   "cell_type": "code",
   "execution_count": 13,
   "metadata": {},
   "outputs": [
    {
     "name": "stdout",
     "output_type": "stream",
     "text": [
      "Hitman is not alive\n"
     ]
    }
   ],
   "source": [
    "aaryan.kill(aayush)"
   ]
  },
  {
   "cell_type": "code",
   "execution_count": 14,
   "metadata": {},
   "outputs": [
    {
     "name": "stdout",
     "output_type": "stream",
     "text": [
      "Suicide is not an option\n"
     ]
    }
   ],
   "source": [
    "aayush.kill(aayush)"
   ]
  },
  {
   "cell_type": "code",
   "execution_count": 15,
   "metadata": {},
   "outputs": [
    {
     "data": {
      "text/plain": [
       "[ 0 : Lone Wolf : True,  1 : Rithik Arora : False,  2 : Aayush Kumar : True]"
      ]
     },
     "execution_count": 15,
     "metadata": {},
     "output_type": "execute_result"
    }
   ],
   "source": [
    "Human.aadhar"
   ]
  },
  {
   "cell_type": "markdown",
   "metadata": {},
   "source": [
    "## Totally based on how Class and Obect can be used\n",
    "### How Inheritace Works\n",
    "### Why to use Inheritance"
   ]
  }
 ],
 "metadata": {
  "kernelspec": {
   "display_name": "Python 3",
   "language": "python",
   "name": "python3"
  },
  "language_info": {
   "codemirror_mode": {
    "name": "ipython",
    "version": 3
   },
   "file_extension": ".py",
   "mimetype": "text/x-python",
   "name": "python",
   "nbconvert_exporter": "python",
   "pygments_lexer": "ipython3",
   "version": "3.7.6"
  }
 },
 "nbformat": 4,
 "nbformat_minor": 4
}
